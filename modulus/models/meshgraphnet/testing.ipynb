{
 "cells": [
  {
   "cell_type": "code",
   "execution_count": 1,
   "metadata": {},
   "outputs": [],
   "source": [
    "import torch\n",
    "import dgl\n",
    "from modulus.models.meshgraphnet import MeshGraphNet"
   ]
  },
  {
   "cell_type": "code",
   "execution_count": 2,
   "metadata": {},
   "outputs": [],
   "source": [
    "model = MeshGraphNet(\n",
    "    input_dim_nodes=4,\n",
    "    input_dim_edges=3,\n",
    "    input_dim_world_edges=2,\n",
    "    output_dim=2,\n",
    ")"
   ]
  },
  {
   "cell_type": "code",
   "execution_count": 3,
   "metadata": {},
   "outputs": [],
   "source": [
    "mesh_graph = dgl.rand_graph(10, 5)\n",
    "world_graph = dgl.rand_graph(10, 3)"
   ]
  },
  {
   "cell_type": "code",
   "execution_count": 4,
   "metadata": {},
   "outputs": [],
   "source": [
    "node_features = torch.randn(10, 4)\n",
    "edge_features = torch.randn(5, 3)\n",
    "world_edge_features = torch.randn(3, 2)"
   ]
  },
  {
   "cell_type": "code",
   "execution_count": 6,
   "metadata": {},
   "outputs": [
    {
     "data": {
      "text/plain": [
       "tensor([[ 0.4223, -0.1478],\n",
       "        [ 0.6846,  0.1677],\n",
       "        [ 0.2953, -0.0689],\n",
       "        [ 0.7618,  0.2960],\n",
       "        [ 0.1630, -0.3824],\n",
       "        [ 0.1415, -0.2352],\n",
       "        [ 0.2906, -0.4690],\n",
       "        [ 0.4674,  0.1512],\n",
       "        [ 0.5151,  0.1722],\n",
       "        [ 0.3326, -0.1583]], grad_fn=<AddmmBackward0>)"
      ]
     },
     "execution_count": 6,
     "metadata": {},
     "output_type": "execute_result"
    }
   ],
   "source": [
    "output = model(node_features, edge_features, world_edge_features, mesh_graph, world_graph)\n",
    "output"
   ]
  },
  {
   "cell_type": "code",
   "execution_count": null,
   "metadata": {},
   "outputs": [],
   "source": []
  }
 ],
 "metadata": {
  "kernelspec": {
   "display_name": "modulus_source",
   "language": "python",
   "name": "python3"
  },
  "language_info": {
   "codemirror_mode": {
    "name": "ipython",
    "version": 3
   },
   "file_extension": ".py",
   "mimetype": "text/x-python",
   "name": "python",
   "nbconvert_exporter": "python",
   "pygments_lexer": "ipython3",
   "version": "3.9.18"
  }
 },
 "nbformat": 4,
 "nbformat_minor": 2
}
